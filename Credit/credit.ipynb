{
 "cells": [
  {
   "cell_type": "markdown",
   "metadata": {},
   "source": [
    "# Залік"
   ]
  },
  {
   "cell_type": "code",
   "execution_count": 9,
   "metadata": {
    "pycharm": {
     "name": "#%%\n"
    }
   },
   "outputs": [],
   "source": [
    "import numpy as np"
   ]
  },
  {
   "cell_type": "markdown",
   "metadata": {
    "pycharm": {
     "name": "#%% md\n"
    }
   },
   "source": [
    "## 1. Поняття ядерних функцій. Вимоги до ядерних функцій (теорема Мерсера)."
   ]
  },
  {
   "cell_type": "markdown",
   "metadata": {},
   "source": [
    "Ядерна функція це дійснозначна функція від двох змінних.\n",
    "Функція часто симетрична та невідємна,\n",
    "і в такому випадку може бути інтерпретована як міра схожості.\n",
    "\n",
    "Теорема Мерсера: якщо матриця Грама є додатньо визначеню,\n",
    "ми можемо порахувати розклад власних векторів:\n",
    "$K = U^{T} * \\lambda * U $\n",
    "\n",
    "де $\\lambda$ це діагональна матриця власних невід'ємних чисел.\n",
    "Розглядаючи елементи матриці K:\n",
    "$k_{i,j} = (\\lambda^{1/2} * U[:, i]) ^{T} * (\\lambda^{1/2} * U[:, j])$\n",
    "\n",
    "Можемо переписати:\n",
    "\n",
    "$k_{i,j} = \\phi(x_i)^{T} \\phi(x_j)$.\n",
    "\n",
    "Якщо ядерна функція належить до классу Мерсера,\n",
    "тоді існує функція $\\phi$ така, що:\n",
    "\n",
    "$k(x, x') = \\phi(x)^{T}\\phi(x')$"
   ]
  },
  {
   "cell_type": "markdown",
   "metadata": {},
   "source": [
    "## 2. Виведення основного рівняння лінійної регресії.\n"
   ]
  },
  {
   "cell_type": "markdown",
   "metadata": {},
   "source": [
    "Запишемо рівнянн від'ємної логарифмічної правдоподібності\n",
    "(negative log-likelihood):\n",
    "\n",
    "$NNL(w)=1/2 (y-Xw)^T(y-Xw)$\n",
    "\n",
    "$NNL(w)=1/2 w^T (X^T X)w−w^T(X^T y)$\n",
    "\n",
    "Тоді градієнт має наступний вигляд:\n",
    "\n",
    "$g(w)=(X^TXw-X^Ty)$\n",
    "\n",
    "Прирівняємо його до нуля та після простих дій\n",
    "(перенесення через знак рівно,\n",
    "домнеження обох сторін рівності на обернену матрицю)\n",
    "над матрицями отримаємо:\n",
    "\n",
    "$X^TXw=X^Ty$\n",
    "\n",
    "$w=(X^T X)^{-1}X^Ty$\n",
    "\n",
    "Виведення закінчено."
   ]
  },
  {
   "cell_type": "markdown",
   "metadata": {},
   "source": [
    "## 3. Обчислити матрицю Грама для ядерної функції k(x y) = xsin(x) + x^2 / 5 на множині X = {1, 0, 7, 6, 4, 10}. Аргумент функції sin(x) задано в радіанах."
   ]
  },
  {
   "cell_type": "code",
   "execution_count": 10,
   "metadata": {
    "pycharm": {
     "name": "#%%\n"
    }
   },
   "outputs": [
    {
     "data": {
      "text/plain": [
       "array([[1.08466181e+00, 0.00000000e+00, 1.49960430e+01, 5.75257229e+00,\n",
       "        1.79955791e-01, 1.51635977e+01],\n",
       "       [0.00000000e+00, 0.00000000e+00, 0.00000000e+00, 0.00000000e+00,\n",
       "        0.00000000e+00, 0.00000000e+00],\n",
       "       [1.49960430e+01, 0.00000000e+00, 2.07328499e+02, 7.95324593e+01,\n",
       "        2.48798727e+00, 2.09645034e+02],\n",
       "       [5.75257229e+00, 0.00000000e+00, 7.95324593e+01, 3.05091297e+01,\n",
       "        9.54406880e-01, 8.04210960e+01],\n",
       "       [1.79955791e-01, 0.00000000e+00, 2.48798727e+00, 9.54406880e-01,\n",
       "        2.98563906e-02, 2.51578620e+00],\n",
       "       [1.51635977e+01, 0.00000000e+00, 2.09645034e+02, 8.04210960e+01,\n",
       "        2.51578620e+00, 2.11987453e+02]])"
      ]
     },
     "execution_count": 10,
     "metadata": {},
     "output_type": "execute_result"
    }
   ],
   "source": [
    "def kernel(x):\n",
    "    return x * np.sin(x) + (x * x) / 5\n",
    "\n",
    "X = np.array([1,0,7,6,4,10])\n",
    "\n",
    "def gramMatrix(X, kernel):\n",
    "    n = X.shape[0]\n",
    "    K = np.array(\n",
    "        [\n",
    "            [\n",
    "                kernel(X[i]) * kernel(X[j])\n",
    "                for i in range(n)\n",
    "            ] for j in range(n)\n",
    "        ]\n",
    "    )\n",
    "    \n",
    "    return K\n",
    "\n",
    "gramMatrix(X, kernel)"
   ]
  }
 ],
 "metadata": {
  "kernelspec": {
   "display_name": "Python 3",
   "language": "python",
   "name": "python3"
  },
  "language_info": {
   "codemirror_mode": {
    "name": "ipython",
    "version": 3
   },
   "file_extension": ".py",
   "mimetype": "text/x-python",
   "name": "python",
   "nbconvert_exporter": "python",
   "pygments_lexer": "ipython3",
   "version": "3.7.7"
  }
 },
 "nbformat": 4,
 "nbformat_minor": 1
}