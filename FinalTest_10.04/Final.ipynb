{
 "cells": [
  {
   "cell_type": "code",
   "execution_count": 2,
   "metadata": {},
   "outputs": [],
   "source": [
    "import numpy as np\n",
    "import matplotlib.pyplot as plt\n",
    "from scipy import stats"
   ]
  },
  {
   "cell_type": "markdown",
   "metadata": {},
   "source": [
    "## Варіант#8"
   ]
  },
  {
   "cell_type": "markdown",
   "metadata": {},
   "source": [
    "### 1. Ансамблеві класифікатори. Ансамбль лінійних дискримінантів Фішера (random forest).\n"
   ]
  },
  {
   "cell_type": "markdown",
   "metadata": {},
   "source": [
    "Ансамблевими моделями називають моделі, що агругують комбінації ваг більш простих моделей $$f(y|x, \\theta) = \\sum weights_i * f_m(y|x)$$ де ваги - тренований параметри. Прикладом ансамблевих моделей можуть слугувати:\n",
    "* Random Forest\n",
    "* Бустингові дерева\n",
    "* Також підвидом ансамблевих моделей можна виділити Stacking, де ми поєднуємо передбачення більш простих моделей \n",
    "для тренування більш складних.\n",
    "\n",
    "Ансамбль лінійних дискримінантів Фішера (random forest) - ensemble learning method for classification, regression and other tasks that operate by constructing a multitude of decision trees at training time and outputting the class that is the mode of the classes (classification) or mean prediction (regression) of the individual trees. Random decision forests correct for decision trees' habit of overfitting to their training set."
   ]
  },
  {
   "cell_type": "markdown",
   "metadata": {},
   "source": [
    "### 2. Графічні моделі. Поняття стохастичної матриці.\n"
   ]
  },
  {
   "cell_type": "markdown",
   "metadata": {},
   "source": [
    "* Графічна модель - спосіб презентації спільних розподілів,що ґрунтується на припущенні умовної незалежності змінних. Як не дивно, модель являє собою граф, вершини якого відповідають за незалежні змінні, а ребра-за припущення умовної незалежності між ними. Графічна модель репрезентується за допомогою матриці суміжності, найчастіше розглядається модель DGM(directed graphical model), що презентується DAG-ом (Спрямований ациклічний граф). Також ці моделі називаються Байєсівськими (або мережами довіри)\n",
    "\n",
    "* Стохастичною матрицею називається матриця, усі елементи якої є невід'ємними, а сума елементів рядків чи стовпців рівна одиниці"
   ]
  },
  {
   "cell_type": "markdown",
   "metadata": {},
   "source": [
    "### 3. Вирішити систему лінійних арифметичних рівнянь:\n",
    "  (1) 11x1 + 4x2 + x3 = 10<br>\n",
    "  (2) 3x1 + x4 = 2<br>\n",
    "  (3) -x1 + 2x2 = 3<br>\n",
    "  (4) 5x2 + 7x4 = 0<br>\n",
    "  (5) 3x1+10x2-4x3 = 0<br>"
   ]
  },
  {
   "cell_type": "code",
   "execution_count": 9,
   "metadata": {},
   "outputs": [
    {
     "name": "stdout",
     "output_type": "stream",
     "text": [
      "[[ 0.35435926  0.94335126  2.60676498 -0.64160744]]\n"
     ]
    }
   ],
   "source": [
    "X = np.array([[11, 4, 1, 0],\n",
    "              [3, 0 ,0, 1],\n",
    "              [-1, 2 ,0, 0],\n",
    "              [0, 5, 0, 7],\n",
    "              [3, 10, -4, 0]])\n",
    "\n",
    "y = np.array([10, 2, 3, 0, 0])\n",
    "X = np.matrix(X)\n",
    "theta = np.dot(np.linalg.inv(X.T * X) * X.T, y)\n",
    "print(theta)"
   ]
  }
 ],
 "metadata": {
  "kernelspec": {
   "display_name": "Python 3",
   "language": "python",
   "name": "python3"
  },
  "language_info": {
   "codemirror_mode": {
    "name": "ipython",
    "version": 3
   },
   "file_extension": ".py",
   "mimetype": "text/x-python",
   "name": "python",
   "nbconvert_exporter": "python",
   "pygments_lexer": "ipython3",
   "version": "3.7.3"
  }
 },
 "nbformat": 4,
 "nbformat_minor": 4
}
