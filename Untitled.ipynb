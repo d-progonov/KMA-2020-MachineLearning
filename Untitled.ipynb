{
 "cells": [
  {
   "cell_type": "markdown",
   "metadata": {},
   "source": [
    "#### Метод незалежних компонент. Критерії незалежності компонентів."
   ]
  },
  {
   "cell_type": "markdown",
   "metadata": {},
   "source": [
    "Метод незалежних компонент - метод факторного аналізу в статистиці, який використовує ортогональне перетворення множини спостережень з можливо пов'язаними змінними у множину змінних без лінійної кореляції, які називаються головними компонентами."
   ]
  },
  {
   "cell_type": "markdown",
   "metadata": {},
   "source": [
    "Критерії незалежності компонентів - "
   ]
  },
  {
   "cell_type": "markdown",
   "metadata": {},
   "source": [
    "2. Задано послідовність станів марківської моделі:\n",
    "  X = {2,5,4,7,3,4,2,3,5,4,6,7,7,6,1}\n",
    "  pi = {0.3; 0.1; 0.1; 0.2; 0.1; 0.1; 0.1}\n",
    "  Загальна кількість станів рівна 7. Розрахувати значення елементів вектора стану pi на 3 ітерації."
   ]
  },
  {
   "cell_type": "code",
   "execution_count": 1,
   "metadata": {},
   "outputs": [],
   "source": [
    "X = [2,5,4,7,3,4,2,3,5,4,6,7,7,6,1]\n",
    "pi = [0.3, 0.1, 0.1, 0.2, 0.1, 0.1, 0.1]"
   ]
  },
  {
   "cell_type": "code",
   "execution_count": null,
   "metadata": {},
   "outputs": [],
   "source": []
  }
 ],
 "metadata": {
  "kernelspec": {
   "display_name": "Python 3",
   "language": "python",
   "name": "python3"
  },
  "language_info": {
   "codemirror_mode": {
    "name": "ipython",
    "version": 3
   },
   "file_extension": ".py",
   "mimetype": "text/x-python",
   "name": "python",
   "nbconvert_exporter": "python",
   "pygments_lexer": "ipython3",
   "version": "3.6.8"
  }
 },
 "nbformat": 4,
 "nbformat_minor": 2
}
