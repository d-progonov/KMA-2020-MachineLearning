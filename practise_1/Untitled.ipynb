{
 "cells": [
  {
   "cell_type": "markdown",
   "metadata": {},
   "source": [
    "1.Застосування марківських моделей в задачах моделювання природних мов.\n",
    "\n",
    "Можемо змоделювати речення у вигляді P(x_1...x_t) = p(x1)*p(x2|x1)*p(x3|x1, x2)* ... *p(xt|x1 ... xt-1). \n",
    "Нам потрібно знайти найбільш ймовірну послідовність тегів за даного речення. \n",
    "у = argmax P(y|x) = argmax p(x, y)\n",
    "де P(x, y) = P(x|y)P(y) = Product from t=1 to T P(x_t|y_t)P(y_t|y_t-1) за умови Марківського припущення p(y) = product from t=1 to T P(y_t|y_t-1)\n"
   ]
  },
  {
   "cell_type": "code",
   "execution_count": 16,
   "metadata": {},
   "outputs": [],
   "source": [
    "import numpy as np\n",
    "from scipy.stats import multivariate_normal, norm\n",
    "x1 = np.array([[1, 3], [2, 4], [3, 5]])\n",
    "x2 = np.array([[2, 5], [0, 8], [4, 1],[1, 1]])\n",
    "x3 = np.array([[1, 1], [-5 , 4], [0, 8]])\n",
    "\n",
    "x_new = np.array([2, 7])"
   ]
  },
  {
   "cell_type": "code",
   "execution_count": 17,
   "metadata": {},
   "outputs": [],
   "source": [
    "mean_1 = np.mean(x1, axis=0)\n",
    "mean_2 = np.mean(x1, axis=0)\n",
    "mean_3 = np.mean(x3, axis=0)"
   ]
  },
  {
   "cell_type": "code",
   "execution_count": 18,
   "metadata": {},
   "outputs": [],
   "source": [
    "cov_1 = np.cov(x1)\n",
    "cov_2 = np.cov(x2)\n",
    "cov_3 = np.cov(x3)"
   ]
  },
  {
   "cell_type": "code",
   "execution_count": 20,
   "metadata": {},
   "outputs": [
    {
     "data": {
      "text/plain": [
       "(array([2., 4.]), array([[2., 2., 2.],\n",
       "        [2., 2., 2.],\n",
       "        [2., 2., 2.]]))"
      ]
     },
     "execution_count": 20,
     "metadata": {},
     "output_type": "execute_result"
    }
   ],
   "source": [
    "mean_1, cov_1"
   ]
  },
  {
   "cell_type": "code",
   "execution_count": 22,
   "metadata": {},
   "outputs": [
    {
     "data": {
      "text/plain": [
       "(array([2., 4.]), array([[  4.5,  12. ,  -4.5,   0. ],\n",
       "        [ 12. ,  32. , -12. ,   0. ],\n",
       "        [ -4.5, -12. ,   4.5,   0. ],\n",
       "        [  0. ,   0. ,   0. ,   0. ]]))"
      ]
     },
     "execution_count": 22,
     "metadata": {},
     "output_type": "execute_result"
    }
   ],
   "source": [
    "mean_2, cov_2"
   ]
  },
  {
   "cell_type": "code",
   "execution_count": 23,
   "metadata": {},
   "outputs": [
    {
     "data": {
      "text/plain": [
       "(array([-1.33333333,  4.33333333]), array([[ 0. ,  0. ,  0. ],\n",
       "        [ 0. , 40.5, 36. ],\n",
       "        [ 0. , 36. , 32. ]]))"
      ]
     },
     "execution_count": 23,
     "metadata": {},
     "output_type": "execute_result"
    }
   ],
   "source": [
    "mean_3, cov_3"
   ]
  },
  {
   "cell_type": "markdown",
   "metadata": {},
   "source": [
    "Не встигаю доробити, схоже що елемент x_new належить до 1-го класу"
   ]
  },
  {
   "cell_type": "code",
   "execution_count": null,
   "metadata": {},
   "outputs": [],
   "source": []
  }
 ],
 "metadata": {
  "kernelspec": {
   "display_name": "Python 3",
   "language": "python",
   "name": "python3"
  },
  "language_info": {
   "codemirror_mode": {
    "name": "ipython",
    "version": 3
   },
   "file_extension": ".py",
   "mimetype": "text/x-python",
   "name": "python",
   "nbconvert_exporter": "python",
   "pygments_lexer": "ipython3",
   "version": "3.6.7"
  }
 },
 "nbformat": 4,
 "nbformat_minor": 4
}
