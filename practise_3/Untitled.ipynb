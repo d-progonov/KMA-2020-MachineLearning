{
 "cells": [
  {
   "cell_type": "markdown",
   "metadata": {},
   "source": [
    "1. Ансамблеві класифікатори\n",
    "\n",
    "Моделі що агругують комбінації ваг більш простих моделей f(y|x, $\\theta$) = $\\sum$ $weights_i * f_m(y|x)$\n",
    "пу ваги - тренований параметри.\n",
    "Прикладом ансамблевих методів є \n",
    " - Random Forest\n",
    " - Бустингові дерева\n",
    "\n",
    "Також підвидом ансамблевих моделей можна виділити Stacking, де ми поєднуємо передбачення більш простих моделей для тренування більш складних. "
   ]
  },
  {
   "cell_type": "code",
   "execution_count": 3,
   "metadata": {},
   "outputs": [],
   "source": [
    "import numpy as np"
   ]
  },
  {
   "cell_type": "code",
   "execution_count": 5,
   "metadata": {},
   "outputs": [],
   "source": [
    "X = np.array([[1,2,3,8],\n",
    "     [5,3,6,2],\n",
    "     [7,5,6,8],\n",
    "     [0,0,0,1]])"
   ]
  },
  {
   "cell_type": "code",
   "execution_count": 7,
   "metadata": {},
   "outputs": [],
   "source": [
    "from sklearn.decomposition import PCA"
   ]
  },
  {
   "cell_type": "code",
   "execution_count": 8,
   "metadata": {},
   "outputs": [
    {
     "data": {
      "text/plain": [
       "PCA(copy=True, iterated_power='auto', n_components=3, random_state=None,\n",
       "    svd_solver='auto', tol=0.0, whiten=False)"
      ]
     },
     "execution_count": 8,
     "metadata": {},
     "output_type": "execute_result"
    }
   ],
   "source": [
    "pca = PCA(n_components=3)\n",
    "pca.fit(X)"
   ]
  },
  {
   "cell_type": "code",
   "execution_count": 9,
   "metadata": {},
   "outputs": [
    {
     "name": "stdout",
     "output_type": "stream",
     "text": [
      "[8.96804648 5.53321812 1.48581276]\n"
     ]
    }
   ],
   "source": [
    "print(pca.singular_values_)"
   ]
  },
  {
   "cell_type": "code",
   "execution_count": 10,
   "metadata": {},
   "outputs": [],
   "source": [
    "u, s, vh = np.linalg.svd(X, full_matrices=True)"
   ]
  },
  {
   "cell_type": "code",
   "execution_count": 15,
   "metadata": {},
   "outputs": [
    {
     "data": {
      "text/plain": [
       "array([[-0.45103945,  0.74955999,  0.47409566],\n",
       "       [-0.45211097, -0.64452157,  0.60908097],\n",
       "       [-0.76864884, -0.06716484, -0.63454343],\n",
       "       [-0.03657932,  0.13505797, -0.04010375]])"
      ]
     },
     "execution_count": 15,
     "metadata": {},
     "output_type": "execute_result"
    }
   ],
   "source": [
    "u[:, :3]"
   ]
  },
  {
   "cell_type": "code",
   "execution_count": 18,
   "metadata": {},
   "outputs": [
    {
     "data": {
      "text/plain": [
       "array([[-0.47317681, -0.35678615, -0.50741554, -0.62556919],\n",
       "       [-0.52129636, -0.13642911, -0.35803476,  0.76252759],\n",
       "       [-0.56857901, -0.24491583,  0.78262522, -0.0650531 ]])"
      ]
     },
     "execution_count": 18,
     "metadata": {},
     "output_type": "execute_result"
    }
   ],
   "source": [
    "vh[:3, :]"
   ]
  },
  {
   "cell_type": "code",
   "execution_count": 19,
   "metadata": {},
   "outputs": [
    {
     "data": {
      "text/plain": [
       "array([17.10171748,  5.64592816,  1.62212023])"
      ]
     },
     "execution_count": 19,
     "metadata": {},
     "output_type": "execute_result"
    }
   ],
   "source": [
    "s[:3]"
   ]
  },
  {
   "cell_type": "code",
   "execution_count": 22,
   "metadata": {},
   "outputs": [],
   "source": [
    "reconst = np.matrix(u[:, :3]) * np.diag(s[:3]) * np.matrix(vh[:3, :])"
   ]
  },
  {
   "cell_type": "code",
   "execution_count": 23,
   "metadata": {},
   "outputs": [
    {
     "data": {
      "text/plain": [
       "matrix([[ 1.00650628e+00,  1.98637468e+00,  3.00065557e+00,\n",
       "          8.00231798e+00],\n",
       "        [ 4.99374308e+00,  3.01310313e+00,  5.99936955e+00,\n",
       "          1.99777085e+00],\n",
       "        [ 7.00293239e+00,  4.99385906e+00,  6.00029547e+00,\n",
       "          8.00104472e+00],\n",
       "        [-6.45101869e-02,  1.35096000e-01, -6.50004847e-03,\n",
       "          9.77017039e-01]])"
      ]
     },
     "execution_count": 23,
     "metadata": {},
     "output_type": "execute_result"
    }
   ],
   "source": [
    "reconst"
   ]
  },
  {
   "cell_type": "code",
   "execution_count": null,
   "metadata": {},
   "outputs": [],
   "source": []
  }
 ],
 "metadata": {
  "kernelspec": {
   "display_name": "Python 3",
   "language": "python",
   "name": "python3"
  },
  "language_info": {
   "codemirror_mode": {
    "name": "ipython",
    "version": 3
   },
   "file_extension": ".py",
   "mimetype": "text/x-python",
   "name": "python",
   "nbconvert_exporter": "python",
   "pygments_lexer": "ipython3",
   "version": "3.6.7"
  }
 },
 "nbformat": 4,
 "nbformat_minor": 4
}
