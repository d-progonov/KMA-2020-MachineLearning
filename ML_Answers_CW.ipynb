{
  "nbformat": 4,
  "nbformat_minor": 0,
  "metadata": {
    "colab": {
      "name": "ML_Answers_CW.ipynb",
      "provenance": [],
      "collapsed_sections": []
    },
    "kernelspec": {
      "name": "python3",
      "display_name": "Python 3"
    }
  },
  "cells": [
    {
      "cell_type": "markdown",
      "metadata": {
        "id": "qLvGJxqJLGUT",
        "colab_type": "text"
      },
      "source": [
        "**Завдання №9** <br>\n",
        "**Питання:** <br>\n",
        "1. Метод опорних векторів (Support Vector Machine, SVM). Відмінності від інших методів класифікації даних. <br>\n",
        "2. Відмінності лінійної та логістичної регресії з точки зору вирішеня задачі класифікації. <br>\n",
        "3. Задано послідовність станів марківської моделі першого порядку: <br>\n",
        "  X = {1, 2,5,4,7,3,4,2,3,5,4,6,7,7,6,1} <br>\n",
        "  pi = {0.3; 0.1; 0.1; 0.2; 0.1; 0.1; 0.1} <br>\n",
        "  Загальна кількість станів рівна 7. Розрахувати значення елементів вектора стану pi на 2 ітерації. <br>"
      ]
    },
    {
      "cell_type": "markdown",
      "metadata": {
        "id": "mXcAaVLOL3ZN",
        "colab_type": "text"
      },
      "source": [
        "**Відповіді:** <br>\n",
        "1. Метод опорних векторів (англ. SVM, support vector machine) — набір алгоритмів машинного навчання з учителем, що використовуються для задач класифікації та регресійного аналізу. Ключові властивості: 1) ядерний метод для запобігання недонавчання (underfitting); 2) принцип розрідженості та 3) принцип великої грані/розділення (large margin) для запобігання перенавчання. <br>\n",
        "Основна ідея методу — переведення вихідних векторів в простір більш високої розмірності і пошук розділяючої гіперплощини з максимальною гранню в цьому просторі. Дві паралельні гіперплощини будуються по обидва боки гіперплощини, що розділяє класи. Розділяючою гіперплощиною буде гіперплощина, що максимізує відстань до двох паралельних гіперплощин. Алгоритм працює в припущенні, що чим більша різниця або відстань між цими паралельними гіперплощинами, тим меншою буде середня помилка класифікатора.\n",
        "2. Лінійна регресія використовується для знаходження відношення між залежними і незалежними змінними і дає результат у вигляді неперервної функції, коли як у вирішенні задачі класифікації зазвичай використовується логістична регресія, яка може оцінити ймовірність належності до певного класу і дати відповідь, чи належить елемент до певного класу, як дискретна функція, у вигляді 0 або 1. <br>"
      ]
    },
    {
      "cell_type": "code",
      "metadata": {
        "id": "jYNBOqS9So7X",
        "colab_type": "code",
        "colab": {}
      },
      "source": [
        "import numpy as np\n",
        "np.set_printoptions(linewidth=100)"
      ],
      "execution_count": 0,
      "outputs": []
    },
    {
      "cell_type": "code",
      "metadata": {
        "id": "kfrsbtZHSdb3",
        "colab_type": "code",
        "colab": {}
      },
      "source": [
        "def fillMatrix(x, states):\n",
        "    matrix = np.zeros((states, states))\n",
        "    for i in range(x.shape[0] - 1):\n",
        "        val_1 = x[i]\n",
        "        val_2 = x[i+1]\n",
        "        matrix[val_2 - 1][val_1 - 1] += 1\n",
        "        #print(val_1, val_2)\n",
        "    return matrix"
      ],
      "execution_count": 0,
      "outputs": []
    },
    {
      "cell_type": "code",
      "metadata": {
        "id": "q6_8JPeCShTx",
        "colab_type": "code",
        "colab": {}
      },
      "source": [
        "def normalizeMatrix(matrix):\n",
        "    row_sums = matrix.sum(axis = 1)\n",
        "    res = matrix / row_sums[:, np.newaxis]\n",
        "    return res"
      ],
      "execution_count": 0,
      "outputs": []
    },
    {
      "cell_type": "code",
      "metadata": {
        "id": "YI3yVHcRL8qw",
        "colab_type": "code",
        "colab": {
          "base_uri": "https://localhost:8080/",
          "height": 35
        },
        "outputId": "cc0f1d15-2f24-4d0b-e373-e29fd8d97942"
      },
      "source": [
        "# 3\n",
        "# X = {1, 2, 5, 4, 7, 3, 4, 2, 3, 5, 4, 6, 7, 7, 6, 1}\n",
        "# pi = {0.3, 0.1, 0.1, 0.2, 0.1, 0.1, 0.1}\n",
        "\n",
        "pi = np.array([0.3, 0.1, 0.1, 0.2, 0.1, 0.1, 0.1])\n",
        "X = np.array([1, 2, 5, 4, 7, 3, 4, 2, 3, 5, 4, 6, 7, 7, 6, 1])\n",
        "matrix = fillMatrix(X, 7)\n",
        "matrixNorm = normalizeMatrix(matrix)\n",
        "pi2 = np.dot(pi, matrixNorm)\n",
        "print(pi2)\n"
      ],
      "execution_count": 10,
      "outputs": [
        {
          "output_type": "stream",
          "text": [
            "[0.05       0.1        0.11666667 0.13333333 0.13333333 0.33333333 0.13333333]\n"
          ],
          "name": "stdout"
        }
      ]
    }
  ]
}