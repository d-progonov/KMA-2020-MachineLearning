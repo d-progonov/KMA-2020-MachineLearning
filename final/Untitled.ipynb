{
 "cells": [
  {
   "cell_type": "code",
   "execution_count": 1,
   "metadata": {},
   "outputs": [],
   "source": [
    "import numpy as np\n",
    "from scipy import stats\n",
    "import cmath"
   ]
  },
  {
   "cell_type": "markdown",
   "metadata": {},
   "source": [
    "### 3. Перевірити, чи належить ядерна функція k(, y) = exp(x + y^2) - ln(tg(x/y) + 2) до класу ядерних функцій Мерсена. \n",
    "  Перевірку виконати на множині X={2,4,8,6,4,1}, Y = {4,6,8,5,3,1}. Аргументи тригонометричних функцій задано в радіанах."
   ]
  },
  {
   "cell_type": "code",
   "execution_count": 2,
   "metadata": {},
   "outputs": [],
   "source": [
    "X = np.array([2,4,8,6,4,1])\n",
    "Y = np.array([4,6,8,5,3,1])\n",
    "\n",
    "np.set_printoptions(suppress=True)\n",
    "\n",
    "def k(x, y):\n",
    "    return np.exp(x + y ** 2) - cmath.log(np.tan(x / y) + 2)\n",
    "\n",
    "def form_gram_matrix(X, Y, kernel):\n",
    "    n = X.shape[0]\n",
    "    K = np.array([[kernel(X[i], Y[j]) for i in range(n)] for j in range(n)])\n",
    "    return K\n",
    "\n",
    "def check_positive_definite(K, X, Y):\n",
    "    return X.T @ K @ X \n",
    "\n",
    "def check_kernel_function(X, Y, kernel):\n",
    "    K = form_gram_matrix(X, Y, kernel)\n",
    "    \n",
    "    print(f'Gram matrix:')\n",
    "    print(K)\n",
    "    \n",
    "    prod = check_positive_definite(K, X, Y)\n",
    "    print(f'X.T * K * X = {prod}')\n",
    "    if prod > 0:\n",
    "        return \"kernel function is positive-definite ==> Mercer function\"\n",
    "    return \"kernel function isn't positive-definite\""
   ]
  },
  {
   "cell_type": "code",
   "execution_count": 3,
   "metadata": {},
   "outputs": [
    {
     "name": "stdout",
     "output_type": "stream",
     "text": [
      "Gram matrix:\n",
      "[[6.56599682e+07+0.j         4.85165194e+08+0.j\n",
      "  2.64891221e+10-3.14159265j 3.58491284e+09+0.j\n",
      "  4.85165194e+08+0.j         2.41549519e+07+0.j        ]\n",
      " [3.18559318e+16+0.j         2.35385267e+17+0.j\n",
      "  1.28516001e+19+0.j         1.73927494e+18+0.j\n",
      "  2.35385267e+17+0.j         1.17191424e+16+0.j        ]\n",
      " [4.60718663e+28+0.j         3.40427605e+29+0.j\n",
      "  1.85867175e+31+0.j         2.51543867e+30+0.j\n",
      "  3.40427605e+29+0.j         1.69488924e+28+0.j        ]\n",
      " [5.32048241e+11+0.j         3.93133430e+12+0.j\n",
      "  2.14643580e+14-3.14159265j 2.90488497e+13+0.j\n",
      "  3.93133430e+12+0.j         1.95729609e+11+0.j        ]\n",
      " [5.98731168e+04+0.j         4.42411579e+05+0.j\n",
      "  2.41549524e+07+0.j         3.26901906e+06-3.14159265j\n",
      "  4.42411579e+05+0.j         2.20256130e+04+0.j        ]\n",
      " [2.17727209e+01-3.14159265j 1.47263277e+02+0.j\n",
      "  8.10151537e+03-3.14159265j 1.09609725e+03+0.j\n",
      "  1.47263277e+02+0.j         6.12002399e+00+0.j        ]]\n",
      "X.T * K * X = (1.3329510809070318e+33-307.8760800517997j)\n"
     ]
    },
    {
     "data": {
      "text/plain": [
       "'kernel function is positive-definite ==> Mercer function'"
      ]
     },
     "execution_count": 3,
     "metadata": {},
     "output_type": "execute_result"
    }
   ],
   "source": [
    "check_kernel_function(X, Y, k)"
   ]
  },
  {
   "cell_type": "markdown",
   "metadata": {},
   "source": [
    "оскільки деякі значення видавали nan, я взял логарифм, який би міг видавати комплексні числа для відємних значень. "
   ]
  },
  {
   "cell_type": "markdown",
   "metadata": {},
   "source": [
    "### 1. Методи попередження перенавчання для гаусового дискримінантного аналізу.\n",
    " - використання діагональну матрицю коваріацій для кожного класу, яка припускає що ознаки умовно незалежні\n",
    " - використовувати повну матрицю коваріацій, але змусити її бути однаковою для усіх класів\n",
    " - використувавати діагональну матрицю коваріацій, але змусити її бути розподіленою.\n",
    " - проектувати дані на менші розмірності "
   ]
  },
  {
   "cell_type": "markdown",
   "metadata": {},
   "source": [
    "### 2. Застосування марківських моделей в задачах моделювання природних мов.\n",
    "Можемо змоделювати речення у вигляді P(x_1...x_t) = p(x1)p(x2|x1)p(x3|x1, x2) ... p(xt|x1 ... xt-1). Нам потрібно знайти найбільш ймовірну послідовність тегів за даного речення. у = argmax P(y|x) = argmax p(x, y) де P(x, y) = P(x|y)P(y) = Product from t=1 to T P(x_t|y_t)P(y_t|y_t-1) за умови Марківського припущення p(y) = product from t=1 to T P(y_t|y_t-1)"
   ]
  }
 ],
 "metadata": {
  "kernelspec": {
   "display_name": "Python 3",
   "language": "python",
   "name": "python3"
  },
  "language_info": {
   "codemirror_mode": {
    "name": "ipython",
    "version": 3
   },
   "file_extension": ".py",
   "mimetype": "text/x-python",
   "name": "python",
   "nbconvert_exporter": "python",
   "pygments_lexer": "ipython3",
   "version": "3.6.7"
  }
 },
 "nbformat": 4,
 "nbformat_minor": 4
}
