{
  "nbformat": 4,
  "nbformat_minor": 0,
  "metadata": {
    "colab": {
      "name": "lab1_mmml.ipynb",
      "provenance": []
    },
    "kernelspec": {
      "name": "python3",
      "display_name": "Python 3"
    }
  },
  "cells": [
    {
      "cell_type": "markdown",
      "metadata": {
        "id": "2OsD8DVht8ni",
        "colab_type": "text"
      },
      "source": [
        "#1.Імпорт і формування вибірки"
      ]
    },
    {
      "cell_type": "markdown",
      "metadata": {
        "id": "I1mJ1MqIug3L",
        "colab_type": "text"
      },
      "source": [
        "Імпорт необхідних бібліотек"
      ]
    },
    {
      "cell_type": "code",
      "metadata": {
        "id": "HnzmzHNprwvt",
        "colab_type": "code",
        "outputId": "116ec75b-1d49-4f09-b3d1-1bd795342b6d",
        "colab": {
          "base_uri": "https://localhost:8080/",
          "height": 72
        }
      },
      "source": [
        "import numpy as np\n",
        "import pandas as pd\n",
        "import matplotlib.pyplot as plt\n",
        "import seaborn as sns\n",
        "from zipfile import ZipFile\n",
        "import PIL.Image\n",
        "import os\n",
        "import random\n",
        "import scipy.stats as st\n",
        "from sklearn.metrics import mean_squared_error"
      ],
      "execution_count": 0,
      "outputs": [
        {
          "output_type": "stream",
          "text": [
            "/usr/local/lib/python3.6/dist-packages/statsmodels/tools/_testing.py:19: FutureWarning: pandas.util.testing is deprecated. Use the functions in the public API at pandas.testing instead.\n",
            "  import pandas.util.testing as tm\n"
          ],
          "name": "stderr"
        }
      ]
    },
    {
      "cell_type": "markdown",
      "metadata": {
        "id": "PBl_HkvKujXb",
        "colab_type": "text"
      },
      "source": [
        "Для псевдовипадкового формування вибірки зображень застосовано звичайну функцію random(), оскільки в її основі лежить генератор Мерсена (згідно з документацією). Стартове значення - 2.\n",
        "Формування доволі тривіальне: спершу генерується 250 чисел із 25000, потім з архіву один раз вилучається папка mirflickr на Google Диск із зображеннями із номерами, відповідним цим 250-м числам, які у свою чергу конвертуються в numpy-масиви і в подальшому зберігаються в іншому масиві із назвою imgs. \n"
      ]
    },
    {
      "cell_type": "code",
      "metadata": {
        "id": "gBZOIXCyulkY",
        "colab_type": "code",
        "colab": {}
      },
      "source": [
        "#generating random 250 numbers \n",
        "# rand_nums=[]\n",
        "# random.seed(2)\n",
        "# for i in range(251):\n",
        "#   n = random.randint(1, 25000)\n",
        "#   rand_nums.append(n)\n",
        "\n",
        "#extracting images from archive into google drive\n",
        "# def extractImgs(nums):\n",
        "#   archive=ZipFile('/content/gdrive/My Drive/mirflickr25k.zip', 'r')\n",
        "#   for i in nums:\n",
        "#     path='mirflickr/im'+str(i)+'.jpg'\n",
        "#     archive.extract(path, '/content/gdrive/My Drive/')\n",
        "#   archive.close()\n",
        "\n",
        "# extractImgs(rand_nums)"
      ],
      "execution_count": 0,
      "outputs": []
    },
    {
      "cell_type": "code",
      "metadata": {
        "id": "5zQ09X7ixyEV",
        "colab_type": "code",
        "outputId": "75f09489-8a90-4208-e19e-9f946910ca78",
        "colab": {
          "base_uri": "https://localhost:8080/",
          "height": 35
        }
      },
      "source": [
        "#converting images to arrays and appending them into list\n",
        "def getImgs(path):\n",
        "  imgs=[] \n",
        "  for img in os.listdir(path):\n",
        "    imgs.append(np.array(PIL.Image.open(path+img)))\n",
        "    \n",
        "  return np.asarray(imgs)\n",
        "\n",
        "imgs= getImgs('/content/drive/My Drive/mirflickr/')\n",
        "print('Sampled {} RGB-images'.format(len(imgs)))"
      ],
      "execution_count": 0,
      "outputs": [
        {
          "output_type": "stream",
          "text": [
            "Sampled 250 RGB-images\n"
          ],
          "name": "stdout"
        }
      ]
    },
    {
      "cell_type": "code",
      "metadata": {
        "id": "SSo-RN4MYQI8",
        "colab_type": "code",
        "outputId": "71d6ff3a-d7b9-4aa1-f734-564fe7c6fb23",
        "colab": {
          "base_uri": "https://localhost:8080/",
          "height": 888
        }
      },
      "source": [
        "imgs[0]"
      ],
      "execution_count": 0,
      "outputs": [
        {
          "output_type": "execute_result",
          "data": {
            "text/plain": [
              "array([[[ 31,  32,  24],\n",
              "        [ 22,  31,  26],\n",
              "        [ 36,  43,  71],\n",
              "        ...,\n",
              "        [ 16,  23,  39],\n",
              "        [ 16,  23,  39],\n",
              "        [ 16,  23,  39]],\n",
              "\n",
              "       [[ 17,  25,  14],\n",
              "        [ 26,  34,  45],\n",
              "        [ 37,  43,  69],\n",
              "        ...,\n",
              "        [ 17,  24,  40],\n",
              "        [ 17,  24,  40],\n",
              "        [ 17,  24,  40]],\n",
              "\n",
              "       [[ 19,  25,  11],\n",
              "        [ 22,  31,  36],\n",
              "        [ 24,  33,  50],\n",
              "        ...,\n",
              "        [ 16,  23,  39],\n",
              "        [ 17,  23,  39],\n",
              "        [ 17,  23,  39]],\n",
              "\n",
              "       ...,\n",
              "\n",
              "       [[ 52,   3,   0],\n",
              "        [ 53,   0,   3],\n",
              "        [ 63,   8,   5],\n",
              "        ...,\n",
              "        [ 37,   4,   0],\n",
              "        [ 33,   8,   4],\n",
              "        [ 78,  12,  13]],\n",
              "\n",
              "       [[ 58,   0,   0],\n",
              "        [ 53,   1,   5],\n",
              "        [ 67,   1,   5],\n",
              "        ...,\n",
              "        [ 45,   0,   1],\n",
              "        [ 51,   6,   3],\n",
              "        [135,  13,  12]],\n",
              "\n",
              "       [[ 57,   0,   4],\n",
              "        [ 44,   3,   1],\n",
              "        [ 55,   4,   1],\n",
              "        ...,\n",
              "        [ 73,   0,   0],\n",
              "        [ 77,   3,   2],\n",
              "        [155,   3,   2]]], dtype=uint8)"
            ]
          },
          "metadata": {
            "tags": []
          },
          "execution_count": 4
        }
      ]
    },
    {
      "cell_type": "markdown",
      "metadata": {
        "id": "Qy_b1Z4O3vZC",
        "colab_type": "text"
      },
      "source": [
        "# 2. Характеристики розподілу для зеленого каналу"
      ]
    },
    {
      "cell_type": "markdown",
      "metadata": {
        "id": "JH5InmF6-RWi",
        "colab_type": "text"
      },
      "source": [
        "Формування масиву, що містить значення яскравості пікселів зеленого каналу всієї вибірки зображень, а також двохвимірного масиву, що містить в собі масиви значень яскравості пікселів зеленого каналу кожного зображення."
      ]
    },
    {
      "cell_type": "code",
      "metadata": {
        "id": "0FgZzcvQ36Js",
        "colab_type": "code",
        "colab": {}
      },
      "source": [
        "#green_values contains green-pixel-intensities of all sample \n",
        "green_all = []\n",
        "green_img_list=[]\n",
        "for i in range(len(imgs)):\n",
        "  img = imgs[i].flatten()\n",
        "  n = len(img)\n",
        "  k=len(green_all)\n",
        "  for green in range(1, n, 3):\n",
        "    green_all.append(img[green])\n",
        "  green_img_list.append(np.array(green_all[k:k+int(np.floor(n/3))]))\n",
        "\n",
        "green_all = np.array(green_all)\n",
        "green_img_list = np.array(green_img_list)"
      ],
      "execution_count": 0,
      "outputs": []
    },
    {
      "cell_type": "code",
      "metadata": {
        "id": "p1L2LEnq7bBO",
        "colab_type": "code",
        "colab": {}
      },
      "source": [
        "green_img_binned_list =[]\n",
        "green_all_binned = np.bincount(green_all)\n",
        "for green_img in green_img_list:\n",
        "  green_img_binned_list.append(np.bincount(green_img))"
      ],
      "execution_count": 0,
      "outputs": []
    },
    {
      "cell_type": "code",
      "metadata": {
        "id": "_Djjg1JyVi22",
        "colab_type": "code",
        "outputId": "979d2abd-0387-47d0-c13f-d2593e847b6b",
        "colab": {
          "base_uri": "https://localhost:8080/",
          "height": 35
        }
      },
      "source": [
        "len(green_all)"
      ],
      "execution_count": 0,
      "outputs": [
        {
          "output_type": "execute_result",
          "data": {
            "text/plain": [
              "44388219"
            ]
          },
          "metadata": {
            "tags": []
          },
          "execution_count": 4
        }
      ]
    },
    {
      "cell_type": "markdown",
      "metadata": {
        "id": "bfgOC08h_fou",
        "colab_type": "text"
      },
      "source": [
        "Математичне очікування та дисперсія"
      ]
    },
    {
      "cell_type": "code",
      "metadata": {
        "id": "_RE3uWq5-QCm",
        "colab_type": "code",
        "outputId": "0d780c81-08b3-4c4e-b895-5fb2bbfe24b1",
        "colab": {
          "base_uri": "https://localhost:8080/",
          "height": 35
        }
      },
      "source": [
        "expect_green = np.mean(green_all)\n",
        "var_green = np.var(green_all)\n",
        "print('Expected value and variance of pixel intensity of green channel of all 250 images are {} and {} respectively'.format(expect_green, var_green))"
      ],
      "execution_count": 0,
      "outputs": [
        {
          "output_type": "stream",
          "text": [
            "Expected value and variance of pixel intensity of green channel of all 250 images are 101.77400161065259 and 5545.282938782499 respectively\n"
          ],
          "name": "stdout"
        }
      ]
    },
    {
      "cell_type": "markdown",
      "metadata": {
        "id": "xKxYMaha_lHp",
        "colab_type": "text"
      },
      "source": [
        "Медіана та інтерквартальний розмах"
      ]
    },
    {
      "cell_type": "code",
      "metadata": {
        "id": "oiaaXUKmABH0",
        "colab_type": "code",
        "outputId": "8ed2932f-768e-4399-eac4-2adc8b6cc7e7",
        "colab": {
          "base_uri": "https://localhost:8080/",
          "height": 35
        }
      },
      "source": [
        "median_green = np.median(green_all)\n",
        "\n",
        "q75, q25 = np.percentile(green_all, [75 ,25])\n",
        "iqr_green = q75 - q25\n",
        "print('Median and interquartile range of pixel intensity of green channel of all 250 images are {} and {} respectively'.format(medi_green, iqr_green))"
      ],
      "execution_count": 0,
      "outputs": [
        {
          "output_type": "stream",
          "text": [
            "Median and interquartile range of pixel intensity of green channel of all 250 images are 96.0 and 126.0 respectively\n"
          ],
          "name": "stdout"
        }
      ]
    },
    {
      "cell_type": "markdown",
      "metadata": {
        "colab_type": "text",
        "id": "9tfk3dYzJMgF"
      },
      "source": [
        "Отже, значення, що лежать на відстані, більшій ніж півтора інтерквартильних діапазона від 1-го або ж 3-го квартиля, вважаються викидами. Проте розрахунки нижче вказують на те, що таких немає, оскільки q25-1.5iqr<0, а q75+1.5iqr>255."
      ]
    },
    {
      "cell_type": "code",
      "metadata": {
        "colab_type": "code",
        "outputId": "9c4cb1bf-dddf-42e9-b80a-9ade8fe52a7c",
        "id": "JOY34wcOJM7L",
        "colab": {
          "base_uri": "https://localhost:8080/",
          "height": 35
        }
      },
      "source": [
        "print('We consider pixel intensity values to be outliers if they are below {} or above {}, but the values are far beyond valid range for pixel intensity.'.format(q25-1.5*iqr_green, q75+1.5*iqr_green))"
      ],
      "execution_count": 0,
      "outputs": [
        {
          "output_type": "stream",
          "text": [
            "We consider pixel intensity values to be outliers if they are below -156.0 or above 348.0, but the values are far beyond valid range for pixel intensity.\n"
          ],
          "name": "stdout"
        }
      ]
    },
    {
      "cell_type": "markdown",
      "metadata": {
        "id": "VoiUOHhLAFI4",
        "colab_type": "text"
      },
      "source": [
        "Коефіцієнти асиметрії та ексцесу (нормалізований)"
      ]
    },
    {
      "cell_type": "code",
      "metadata": {
        "id": "ZzkEKtUHAIyM",
        "colab_type": "code",
        "outputId": "22381283-fe2d-4e59-f385-db73a7a68cef",
        "colab": {
          "base_uri": "https://localhost:8080/",
          "height": 35
        }
      },
      "source": [
        "skew_green = st.skew(green_all)\n",
        "kurt_green = st.kurtosis(green_all)-3\n",
        "print('Skewness and normalized kurtosis of pixel intensity of green channel of all 250 images are {} and {} respectively'.format(skew_green, kurt_green))"
      ],
      "execution_count": 0,
      "outputs": [
        {
          "output_type": "stream",
          "text": [
            "Skewness and normalized kurtosis of pixel intensity of green channel of all 250 images are 0.3212877038756634 and -4.0173482995522924 respectively\n"
          ],
          "name": "stdout"
        }
      ]
    },
    {
      "cell_type": "markdown",
      "metadata": {
        "id": "ejpippJDBkwu",
        "colab_type": "text"
      },
      "source": [
        "Нормалізована гістограма значень яскравості пікселів"
      ]
    },
    {
      "cell_type": "code",
      "metadata": {
        "id": "9q4J9SxuFexg",
        "colab_type": "code",
        "outputId": "aa74f8d4-b134-4941-db2b-a980f9ea9ff0",
        "colab": {
          "base_uri": "https://localhost:8080/",
          "height": 299
        }
      },
      "source": [
        "plt.title('Pixel intensity (green channel)')\n",
        "sns.distplot(green_all, bins=27, norm_hist = True)"
      ],
      "execution_count": 0,
      "outputs": [
        {
          "output_type": "execute_result",
          "data": {
            "text/plain": [
              "<matplotlib.axes._subplots.AxesSubplot at 0x7fb6111a6ef0>"
            ]
          },
          "metadata": {
            "tags": []
          },
          "execution_count": 10
        },
        {
          "output_type": "display_data",
          "data": {
            "image/png": "[encoded data removed]",
            "text/plain": [
              "<Figure size 432x288 with 1 Axes>"
            ]
          },
          "metadata": {
            "tags": []
          }
        }
      ]
    },
    {
      "cell_type": "markdown",
      "metadata": {
        "id": "bL3zbbVHUps9",
        "colab_type": "text"
      },
      "source": [
        "#3.Обробка отриманих гістограм"
      ]
    },
    {
      "cell_type": "markdown",
      "metadata": {
        "id": "gN-NlBqmaiZe",
        "colab_type": "text"
      },
      "source": [
        "##a. Апроксимація гістограми"
      ]
    },
    {
      "cell_type": "markdown",
      "metadata": {
        "id": "yMDUK6uVNOyM",
        "colab_type": "text"
      },
      "source": [
        "Провела апроксимацію гістограми вибірки всіх значень яскравості пікселів кривою нормального, Лапласового, Стьюдентового та бета- розподілу."
      ]
    },
    {
      "cell_type": "code",
      "metadata": {
        "id": "3_gJU2Ri3VYV",
        "colab_type": "code",
        "outputId": "3c210787-6c16-4759-e032-f17ba17f2812",
        "colab": {
          "base_uri": "https://localhost:8080/",
          "height": 299
        }
      },
      "source": [
        "plt.title(\"Normal distribution\")\n",
        "sns.distplot(np.arange(256), bins=27, hist_kws={'weights':green_all_binned},norm_hist=True,fit=st.norm,kde=False) "
      ],
      "execution_count": 0,
      "outputs": [
        {
          "output_type": "execute_result",
          "data": {
            "text/plain": [
              "<matplotlib.axes._subplots.AxesSubplot at 0x7fb5d09c60f0>"
            ]
          },
          "metadata": {
            "tags": []
          },
          "execution_count": 11
        },
        {
          "output_type": "display_data",
          "data": {
            "image/png": "[encoded data removed]",
            "text/plain": [
              "<Figure size 432x288 with 1 Axes>"
            ]
          },
          "metadata": {
            "tags": []
          }
        }
      ]
    },
    {
      "cell_type": "code",
      "metadata": {
        "id": "4yvb-EK95L6t",
        "colab_type": "code",
        "outputId": "6aaf2e3f-7249-429f-b5cf-6aa5e66fe13e",
        "colab": {
          "base_uri": "https://localhost:8080/",
          "height": 299
        }
      },
      "source": [
        "plt.title(\"Laplace distribution\")\n",
        "sns.distplot(np.arange(256), bins=27, hist_kws={'weights':green_all_binned},norm_hist=True,fit=st.laplace,kde=False) "
      ],
      "execution_count": 0,
      "outputs": [
        {
          "output_type": "execute_result",
          "data": {
            "text/plain": [
              "<matplotlib.axes._subplots.AxesSubplot at 0x7fb6110b1ef0>"
            ]
          },
          "metadata": {
            "tags": []
          },
          "execution_count": 12
        },
        {
          "output_type": "display_data",
          "data": {
            "image/png": "[encoded data removed]",
            "text/plain": [
              "<Figure size 432x288 with 1 Axes>"
            ]
          },
          "metadata": {
            "tags": []
          }
        }
      ]
    },
    {
      "cell_type": "code",
      "metadata": {
        "id": "RwektNz_3aCG",
        "colab_type": "code",
        "outputId": "548a0477-1dc6-42ba-c569-9c1d20df4b9d",
        "colab": {
          "base_uri": "https://localhost:8080/",
          "height": 299
        }
      },
      "source": [
        "plt.title(\"Student's distribution\")\n",
        "sns.distplot(np.arange(256), bins=27, hist_kws={'weights':green_all_binned},norm_hist=True,fit=st.t,kde=False) "
      ],
      "execution_count": 0,
      "outputs": [
        {
          "output_type": "execute_result",
          "data": {
            "text/plain": [
              "<matplotlib.axes._subplots.AxesSubplot at 0x7fb6111696d8>"
            ]
          },
          "metadata": {
            "tags": []
          },
          "execution_count": 13
        },
        {
          "output_type": "display_data",
          "data": {
            "image/png": "[encoded data removed]",
            "text/plain": [
              "<Figure size 432x288 with 1 Axes>"
            ]
          },
          "metadata": {
            "tags": []
          }
        }
      ]
    },
    {
      "cell_type": "code",
      "metadata": {
        "id": "bAWBkfnT5Nma",
        "colab_type": "code",
        "outputId": "3d9207f8-68db-4cf6-9a4e-c85f629c3169",
        "colab": {
          "base_uri": "https://localhost:8080/",
          "height": 299
        }
      },
      "source": [
        "plt.title(\"Beta distribution\")\n",
        "sns.distplot(np.arange(256), bins=27, hist_kws={'weights':green_all_binned},norm_hist=True,fit=st.beta,kde=False) "
      ],
      "execution_count": 0,
      "outputs": [
        {
          "output_type": "execute_result",
          "data": {
            "text/plain": [
              "<matplotlib.axes._subplots.AxesSubplot at 0x7fb610ae79e8>"
            ]
          },
          "metadata": {
            "tags": []
          },
          "execution_count": 14
        },
        {
          "output_type": "display_data",
          "data": {
            "image/png": "[encoded data removed]",
            "text/plain": [
              "<Figure size 432x288 with 1 Axes>"
            ]
          },
          "metadata": {
            "tags": []
          }
        }
      ]
    },
    {
      "cell_type": "markdown",
      "metadata": {
        "id": "THNz66vbCMfh",
        "colab_type": "text"
      },
      "source": [
        "# Додаткові завдання (Murphy)"
      ]
    },
    {
      "cell_type": "markdown",
      "metadata": {
        "id": "PtisLhWjCWoO",
        "colab_type": "text"
      },
      "source": [
        "## 4.2"
      ]
    },
    {
      "cell_type": "markdown",
      "metadata": {
        "id": "3JpQ7DxiCgm9",
        "colab_type": "text"
      },
      "source": [
        "Uncorrelated and Gaussian does not imply independent unless jointly Gaussian.\n",
        "\n",
        "Let X ∼ N (0, 1) and Y = W X, where p(W = −1) = p(W = 1) = 0.5. It is clear that X and Y are\n",
        "not independent, since Y is a function of X."
      ]
    },
    {
      "cell_type": "markdown",
      "metadata": {
        "id": "qbbF5j1TCnCE",
        "colab_type": "text"
      },
      "source": [
        "**a. Show Y ∼ N (0, 1).**"
      ]
    },
    {
      "cell_type": "markdown",
      "metadata": {
        "id": "JmMhfTiWCtJJ",
        "colab_type": "text"
      },
      "source": [
        "Визначимо функцію щільності p(Y).\n",
        "\n",
        "Оскільки за умовою Y=WX, то p(Y) = p(WX) = a) p(X), W=1 або b) p(-X), W=-1.\n",
        "\n",
        "Але\n",
        "$p(-X) = \\frac{1}{{\\sqrt {2\\pi }}}e^{\\frac{-(-x)^2}{2}} = p(X)$, тобто функція щільності p(X) - парна, тому p(Y)=p(X), що означає, що випадкову величину Y характеризує та сама функція щільності, що і X ~ N(0, 1). Отже, Y ~ N(0, 1). \n",
        "\n",
        "\n",
        "\n",
        "\n",
        "\n"
      ]
    },
    {
      "cell_type": "markdown",
      "metadata": {
        "id": "lWNyGyC6R2M3",
        "colab_type": "text"
      },
      "source": [
        "**b.Show cov [X, Y]=0. Thus X and Y are uncorrelated but dependent, even though they are Gaussian.**\n",
        "\n",
        "**Hint**: use the definition of covariance\n",
        "cov[X, Y] = E[XY] − E [X]E[Y]\n",
        "\n",
        "and the rule of iterated expectation\n",
        "E [XY] = E [E [XY|W]] "
      ]
    },
    {
      "cell_type": "markdown",
      "metadata": {
        "id": "Oi4QbzuTR-Mp",
        "colab_type": "text"
      },
      "source": [
        "cov[X, Y] = E[XY] − E [X]E[Y] = |за правилом повного математичного сподівання (iterated expectation) і оскільки E[X]=E[Y]=0, бо X, Y ~ N(0, 1)|= 0.5E[XY|W=1]+0.5E[XY|W=-1] = 0.5E[X*1*X] + 0.5E[X*(-1)*X] = 0.5(E[$X^2$] + E[$-X^2$]) = |лінійність математичного сподівання| =  0.5(E[$X^2$] - E[$X^2$]) = 0.\n",
        "\n",
        "Отже, випадкові величини X і Y не корелюють, хоча є залежними і мають нормальний розподіл."
      ]
    }
  ]
}