{
 "cells": [
  {
   "cell_type": "code",
   "execution_count": 24,
   "metadata": {},
   "outputs": [],
   "source": [
    "import numpy as np\n",
    "from scipy.stats import multivariate_normal, norm"
   ]
  },
  {
   "cell_type": "code",
   "execution_count": 32,
   "metadata": {},
   "outputs": [],
   "source": [
    "X = np.array([1, 7, 5, 4, 3, 10, 1, 1, 5, 7, 5, 6 ,1])\n",
    "M = np.zeros((11, 11))"
   ]
  },
  {
   "cell_type": "code",
   "execution_count": 33,
   "metadata": {},
   "outputs": [
    {
     "name": "stdout",
     "output_type": "stream",
     "text": [
      "1 7\n",
      "7 5\n",
      "5 4\n",
      "4 3\n",
      "3 10\n",
      "10 1\n",
      "1 1\n",
      "1 5\n",
      "5 7\n",
      "7 5\n",
      "5 6\n",
      "6 1\n"
     ]
    }
   ],
   "source": [
    "for i in range(X.shape[0] - 1):\n",
    "    val_1 = X[i]\n",
    "    val_2 = X[i+1]\n",
    "    M[val_2][val_1] += 1\n",
    "    print(val_1, val_2)"
   ]
  },
  {
   "cell_type": "code",
   "execution_count": 34,
   "metadata": {},
   "outputs": [
    {
     "data": {
      "text/plain": [
       "array([[1.e-10, 1.e-10, 1.e-10, 1.e-10, 1.e-10, 1.e-10, 1.e-10, 1.e-10,\n",
       "        1.e-10, 1.e-10, 1.e-10],\n",
       "       [1.e-10, 1.e+00, 1.e-10, 1.e-10, 1.e-10, 1.e-10, 1.e+00, 1.e-10,\n",
       "        1.e-10, 1.e-10, 1.e+00],\n",
       "       [1.e-10, 1.e-10, 1.e-10, 1.e-10, 1.e-10, 1.e-10, 1.e-10, 1.e-10,\n",
       "        1.e-10, 1.e-10, 1.e-10],\n",
       "       [1.e-10, 1.e-10, 1.e-10, 1.e-10, 1.e+00, 1.e-10, 1.e-10, 1.e-10,\n",
       "        1.e-10, 1.e-10, 1.e-10],\n",
       "       [1.e-10, 1.e-10, 1.e-10, 1.e-10, 1.e-10, 1.e+00, 1.e-10, 1.e-10,\n",
       "        1.e-10, 1.e-10, 1.e-10],\n",
       "       [1.e-10, 1.e+00, 1.e-10, 1.e-10, 1.e-10, 1.e-10, 1.e-10, 2.e+00,\n",
       "        1.e-10, 1.e-10, 1.e-10],\n",
       "       [1.e-10, 1.e-10, 1.e-10, 1.e-10, 1.e-10, 1.e+00, 1.e-10, 1.e-10,\n",
       "        1.e-10, 1.e-10, 1.e-10],\n",
       "       [1.e-10, 1.e+00, 1.e-10, 1.e-10, 1.e-10, 1.e+00, 1.e-10, 1.e-10,\n",
       "        1.e-10, 1.e-10, 1.e-10],\n",
       "       [1.e-10, 1.e-10, 1.e-10, 1.e-10, 1.e-10, 1.e-10, 1.e-10, 1.e-10,\n",
       "        1.e-10, 1.e-10, 1.e-10],\n",
       "       [1.e-10, 1.e-10, 1.e-10, 1.e-10, 1.e-10, 1.e-10, 1.e-10, 1.e-10,\n",
       "        1.e-10, 1.e-10, 1.e-10],\n",
       "       [1.e-10, 1.e-10, 1.e-10, 1.e+00, 1.e-10, 1.e-10, 1.e-10, 1.e-10,\n",
       "        1.e-10, 1.e-10, 1.e-10]])"
      ]
     },
     "execution_count": 34,
     "metadata": {},
     "output_type": "execute_result"
    }
   ],
   "source": [
    "M + 1e-10"
   ]
  },
  {
   "cell_type": "code",
   "execution_count": 35,
   "metadata": {},
   "outputs": [],
   "source": [
    "def normalize_matrix(matrix):\n",
    "    row_sums = matrix.sum(axis = 1)\n",
    "    res = matrix / row_sums[:, np.newaxis]\n",
    "    return res"
   ]
  },
  {
   "cell_type": "code",
   "execution_count": 36,
   "metadata": {},
   "outputs": [
    {
     "name": "stdout",
     "output_type": "stream",
     "text": [
      "first iteration\n"
     ]
    },
    {
     "data": {
      "text/plain": [
       "array([[0., 0., 0., 0., 0., 0., 0., 0., 0., 0., 0.],\n",
       "       [0., 1., 0., 0., 0., 0., 1., 0., 0., 0., 1.],\n",
       "       [0., 0., 0., 0., 0., 0., 0., 0., 0., 0., 0.],\n",
       "       [0., 0., 0., 0., 1., 0., 0., 0., 0., 0., 0.],\n",
       "       [0., 0., 0., 0., 0., 1., 0., 0., 0., 0., 0.],\n",
       "       [0., 1., 0., 0., 0., 0., 0., 2., 0., 0., 0.],\n",
       "       [0., 0., 0., 0., 0., 1., 0., 0., 0., 0., 0.],\n",
       "       [0., 1., 0., 0., 0., 1., 0., 0., 0., 0., 0.],\n",
       "       [0., 0., 0., 0., 0., 0., 0., 0., 0., 0., 0.],\n",
       "       [0., 0., 0., 0., 0., 0., 0., 0., 0., 0., 0.],\n",
       "       [0., 0., 0., 1., 0., 0., 0., 0., 0., 0., 0.]])"
      ]
     },
     "execution_count": 36,
     "metadata": {},
     "output_type": "execute_result"
    }
   ],
   "source": [
    "print('first iteration')\n",
    "M"
   ]
  },
  {
   "cell_type": "code",
   "execution_count": 37,
   "metadata": {},
   "outputs": [
    {
     "data": {
      "text/plain": [
       "array([[0., 0., 0., 0., 0., 0., 0., 0., 0., 0., 0.],\n",
       "       [0., 1., 0., 1., 0., 1., 1., 0., 0., 0., 1.],\n",
       "       [0., 0., 0., 0., 0., 0., 0., 0., 0., 0., 0.],\n",
       "       [0., 0., 0., 0., 0., 1., 0., 0., 0., 0., 0.],\n",
       "       [0., 1., 0., 0., 0., 0., 0., 2., 0., 0., 0.],\n",
       "       [0., 3., 0., 0., 0., 2., 1., 0., 0., 0., 1.],\n",
       "       [0., 1., 0., 0., 0., 0., 0., 2., 0., 0., 0.],\n",
       "       [0., 2., 0., 0., 0., 0., 1., 2., 0., 0., 1.],\n",
       "       [0., 0., 0., 0., 0., 0., 0., 0., 0., 0., 0.],\n",
       "       [0., 0., 0., 0., 0., 0., 0., 0., 0., 0., 0.],\n",
       "       [0., 0., 0., 0., 1., 0., 0., 0., 0., 0., 0.]])"
      ]
     },
     "execution_count": 37,
     "metadata": {},
     "output_type": "execute_result"
    }
   ],
   "source": [
    "np.dot(M, M)"
   ]
  },
  {
   "cell_type": "code",
   "execution_count": 38,
   "metadata": {},
   "outputs": [
    {
     "data": {
      "text/plain": [
       "array([[0., 0., 0., 0., 0., 0., 0., 0., 0., 0., 0.],\n",
       "       [0., 2., 0., 1., 1., 1., 1., 2., 0., 0., 1.],\n",
       "       [0., 0., 0., 0., 0., 0., 0., 0., 0., 0., 0.],\n",
       "       [0., 1., 0., 0., 0., 0., 0., 2., 0., 0., 0.],\n",
       "       [0., 3., 0., 0., 0., 2., 1., 0., 0., 0., 1.],\n",
       "       [0., 5., 0., 1., 0., 1., 3., 4., 0., 0., 3.],\n",
       "       [0., 3., 0., 0., 0., 2., 1., 0., 0., 0., 1.],\n",
       "       [0., 4., 0., 1., 0., 3., 2., 0., 0., 0., 2.],\n",
       "       [0., 0., 0., 0., 0., 0., 0., 0., 0., 0., 0.],\n",
       "       [0., 0., 0., 0., 0., 0., 0., 0., 0., 0., 0.],\n",
       "       [0., 0., 0., 0., 0., 1., 0., 0., 0., 0., 0.]])"
      ]
     },
     "execution_count": 38,
     "metadata": {},
     "output_type": "execute_result"
    }
   ],
   "source": [
    "np.dot(M, np.dot(M, M))"
   ]
  },
  {
   "cell_type": "code",
   "execution_count": null,
   "metadata": {},
   "outputs": [],
   "source": []
  }
 ],
 "metadata": {
  "kernelspec": {
   "display_name": "Python 3",
   "language": "python",
   "name": "python3"
  },
  "language_info": {
   "codemirror_mode": {
    "name": "ipython",
    "version": 3
   },
   "file_extension": ".py",
   "mimetype": "text/x-python",
   "name": "python",
   "nbconvert_exporter": "python",
   "pygments_lexer": "ipython3",
   "version": "3.7.4"
  }
 },
 "nbformat": 4,
 "nbformat_minor": 2
}
