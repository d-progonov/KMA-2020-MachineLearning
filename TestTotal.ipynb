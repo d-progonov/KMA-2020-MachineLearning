{
 "cells": [
  {
   "cell_type": "code",
   "execution_count": 4,
   "metadata": {},
   "outputs": [],
   "source": [
    "import numpy as np"
   ]
  },
  {
   "cell_type": "markdown",
   "metadata": {},
   "source": [
    "# Робастна та гребнева (ridge) регресія. Порівняння з лінійною регресією.\n",
    "\n",
    "Робастна та гребнева регресія є типами лінійної регресії. Робастна використовує розподіл Лапласа замість Гаусівського розподілу. Гребнева робить параметри маленькими для більш плавної кривої, використовуючи нульовий гаусівський апріор. \n"
   ]
  },
  {
   "cell_type": "markdown",
   "metadata": {},
   "source": [
    "# Гаусові моделі. Квадратичний дискримінантний аналіз\n",
    " \n",
    "Квадратичний дискримінантний аналіз - це варіант лінійного дискримінантного аналізу , в якому для кожного класу спостережень рахується індивідуальна коваріаційна матриця. Квадратичний дискримінантний аналіз особливо корисний, якщо заздалегідь відомо, що окремі класи демонструють чіткі коеваріації."
   ]
  },
  {
   "cell_type": "markdown",
   "metadata": {},
   "source": [
    "# 3. Вирішити систему лінійних арифметичних рівнянь:\n",
    "  (1) 8x1 + 2x2 - 3x3 + 42x4 = 1\n",
    "  (2) 13x1 + 13x2 = 4\n",
    "  (3) -7x1 + 11x3 = 10\n",
    "  (4) x2 + x4 = 23\n",
    "  (5) 2x1+x2-7x3 = (-4)"
   ]
  },
  {
   "cell_type": "code",
   "execution_count": 5,
   "metadata": {},
   "outputs": [
    {
     "name": "stdout",
     "output_type": "stream",
     "text": [
      "[-1.30853708  1.73489035  0.08881547  0.20872155]\n"
     ]
    }
   ],
   "source": [
    "A = np.array([[8, 2, -3, 42],\n",
    "              [13, 13, 0, 0],\n",
    "              [-7, 0, 11, 0],\n",
    "              [0, 1, 0, 1],\n",
    "              [6, 0, 0, 0]])\n",
    "b = np.array([1, 4, 10, 23, -4])\n",
    "\n",
    "def solve(A, b):\n",
    "  ata_inverse = np.linalg.inv(np.matmul(A.T, A))\n",
    "  atb = np.matmul(A.T, b) \n",
    "  x = np.matmul(ata_inverse, atb)\n",
    "  return x\n",
    "\n",
    "x = solve(A, b)\n",
    "print(x)"
   ]
  },
  {
   "cell_type": "code",
   "execution_count": null,
   "metadata": {},
   "outputs": [],
   "source": []
  }
 ],
 "metadata": {
  "kernelspec": {
   "display_name": "Python 3",
   "language": "python",
   "name": "python3"
  },
  "language_info": {
   "codemirror_mode": {
    "name": "ipython",
    "version": 3
   },
   "file_extension": ".py",
   "mimetype": "text/x-python",
   "name": "python",
   "nbconvert_exporter": "python",
   "pygments_lexer": "ipython3",
   "version": "3.7.3"
  }
 },
 "nbformat": 4,
 "nbformat_minor": 2
}
