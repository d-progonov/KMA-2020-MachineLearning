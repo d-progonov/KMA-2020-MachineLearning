{
 "cells": [
  {
   "cell_type": "markdown",
   "metadata": {},
   "source": [
    "## 3. Обчислити перші 4 головні компоненти для заданої вибірки значень:\n",
    "  X = {(1,2,5,6,8)\n",
    "       (5,4,1,2,3)\n",
    "       (6,5,2,1,3)\n",
    "       (5,2,4,7,2)\n",
    "       (2,6,2,8,9)\n",
    "       (7,8,3,6,2)}"
   ]
  },
  {
   "cell_type": "code",
   "execution_count": 9,
   "metadata": {},
   "outputs": [],
   "source": [
    "import numpy as np"
   ]
  },
  {
   "cell_type": "code",
   "execution_count": 10,
   "metadata": {},
   "outputs": [],
   "source": [
    "X = np.array(\n",
    "    [[5,4,1,2,3],\n",
    "     [6,5,2,1,3],\n",
    "     [5,2,4,7,2],\n",
    "     [2,6,2,8,9],\n",
    "    [7,8,3,6,2]])\n",
    "\n",
    "n_components = 4\n",
    "\n",
    "u, s, vh = np.linalg.svd(X, full_matrices=True)"
   ]
  },
  {
   "cell_type": "code",
   "execution_count": 11,
   "metadata": {},
   "outputs": [
    {
     "data": {
      "text/plain": [
       "array([[-0.31581508, -0.22129269,  0.29387752,  0.32821111,  0.8106811 ],\n",
       "       [-0.34853293, -0.40555143,  0.43212534,  0.43691849, -0.58001962],\n",
       "       [-0.40134093, -0.02272538, -0.81456491,  0.4166538 , -0.03595318],\n",
       "       [-0.55966693,  0.79016702,  0.23590705, -0.04094851, -0.07127475],\n",
       "       [-0.55180071, -0.40209107, -0.08795204, -0.72532926,  0.00081592]])"
      ]
     },
     "execution_count": 11,
     "metadata": {},
     "output_type": "execute_result"
    }
   ],
   "source": [
    "u"
   ]
  },
  {
   "cell_type": "code",
   "execution_count": 12,
   "metadata": {},
   "outputs": [
    {
     "data": {
      "text/plain": [
       "array([[22.15214442,  0.        ,  0.        ,  0.        ,  0.        ],\n",
       "       [ 0.        ,  7.35682727,  0.        ,  0.        ,  0.        ],\n",
       "       [ 0.        ,  0.        ,  5.1696097 ,  0.        ,  0.        ],\n",
       "       [ 0.        ,  0.        ,  0.        ,  2.62572902,  0.        ],\n",
       "       [ 0.        ,  0.        ,  0.        ,  0.        ,  0.        ]])"
      ]
     },
     "execution_count": 12,
     "metadata": {},
     "output_type": "execute_result"
    }
   ],
   "source": [
    "s[n_components:] = 0\n",
    "np.diag(s)"
   ]
  },
  {
   "cell_type": "code",
   "execution_count": 13,
   "metadata": {},
   "outputs": [
    {
     "data": {
      "text/plain": [
       "array([[-0.4811686 , -0.52279426, -0.24345185, -0.52264418, -0.40340698],\n",
       "       [-0.66437639, -0.19493526, -0.1018423 ,  0.3944058 ,  0.59554721],\n",
       "       [-0.029893  ,  0.46789468, -0.36601864, -0.6427042 ,  0.48284846],\n",
       "       [ 0.45192543, -0.65413475,  0.23261293, -0.25503252,  0.49871914],\n",
       "       [ 0.34921428, -0.20461842, -0.86155727,  0.30524884, -0.02688705]])"
      ]
     },
     "execution_count": 13,
     "metadata": {},
     "output_type": "execute_result"
    }
   ],
   "source": [
    "vh"
   ]
  },
  {
   "cell_type": "code",
   "execution_count": 14,
   "metadata": {},
   "outputs": [
    {
     "data": {
      "text/plain": [
       "matrix([[4.79191126, 4.1219274 , 1.51338213, 1.81810925, 3.01602138],\n",
       "        [6.14888167, 4.91276436, 1.63268947, 1.13013774, 2.98853715],\n",
       "        [5.0092286 , 1.9945926 , 3.97723184, 7.00806674, 1.99928946],\n",
       "        [2.01829508, 5.98928019, 1.95486365, 8.01599176, 8.99859141],\n",
       "        [6.99979057, 8.00012272, 3.0005167 , 5.99981693, 2.00001612]])"
      ]
     },
     "execution_count": 14,
     "metadata": {},
     "output_type": "execute_result"
    }
   ],
   "source": [
    "reconst = np.matrix(u) * np.diag(s) * np.matrix(vh)\n",
    "reconst"
   ]
  },
  {
   "cell_type": "markdown",
   "metadata": {},
   "source": [
    "## 2. Лінійні гаусові системи."
   ]
  },
  {
   "cell_type": "markdown",
   "metadata": {},
   "source": [
    "Let $$𝐱∈ℝ^{𝐷𝑥}$$ be a hidden variable and $$𝐲∈ℝ^{𝐷𝑦}$$ be a noisy observation of 𝐱. Let us assume we have the following prior and likelihood\n",
    "$$𝑝(𝐱)=𝒩(𝐱|𝝁_𝑥,𝚺_𝑥 )$$ $$𝑝(𝐲|𝐱)=𝒩(𝐲|𝑨𝒙+𝒃,𝚺_𝑦 )$$\n",
    "where $$𝑨$$ is a matrix of size $$𝐷_𝑦×𝐷_𝑥$$\n",
    "Theorem (Bayes rule for linear Gaussian systems): Given a linear Gaussian system, the posterior $$𝑝(𝐱|𝐲)$$ is given by the following:\n",
    "$$𝑝(𝐱|𝐲)=𝒩(𝐱|𝝁_{𝑥|𝑦},𝚺_{𝑥|𝑦} )$$$$  𝝁_{𝑥|𝑦}=𝚺_{𝑥|𝑦} (𝑨^𝑇 〖𝚺_𝑦〗^{−1} (𝒚−𝒃)+〖𝚺_𝑥〗^{−1} 𝝁_𝑥 ) $$$$〖𝚺_{𝑥|𝑦}〗^{−1}=〖𝚺_𝑥〗^{−1}+𝑨^𝑇 〖𝚺_𝑦〗^{−1} 𝑨$$\n",
    "The normalization constant 𝑝(𝐲) is given by:\n",
    "$$𝑝(𝐲)=𝒩(𝐲|𝑨𝝁_𝑥+𝒃,𝚺_𝑦+𝑨^𝑇 𝚺_𝑥 𝑨)$$"
   ]
  },
  {
   "cell_type": "markdown",
   "metadata": {},
   "source": [
    " "
   ]
  },
  {
   "cell_type": "markdown",
   "metadata": {},
   "source": [
    "## 1. Метод незалежних компонент. Критерії незалежності компонентів."
   ]
  },
  {
   "cell_type": "markdown",
   "metadata": {},
   "source": [
    "Метод незалежних компонент - метод відділення багатовимірного сигналу у додатні компоненти без попередніх спостережень або знань про істочник сигналу. ми припускаємо що кожна компонента не є Гаусовим сигналом і кожна статистично незалежна."
   ]
  },
  {
   "cell_type": "markdown",
   "metadata": {},
   "source": [
    "Критерії:"
   ]
  },
  {
   "cell_type": "markdown",
   "metadata": {},
   "source": [
    "    Maximum likelihood estimation: "
   ]
  },
  {
   "cell_type": "markdown",
   "metadata": {},
   "source": [
    "$$NLL(V) = \\sum_{j=1}^L E(G_j(z_j) \\to\\min$$where $V=W^-1$ - recognition weights; $z_j≜[𝐯_𝑗]^𝑇𝐱$ and $𝐺_𝑗(𝑧)≜(−log⁡[𝑝_𝑗 (𝑧)] )$"
   ]
  },
  {
   "cell_type": "markdown",
   "metadata": {},
   "source": [
    "    Maximizing non-Gaussianity – kurtosis or neg-entropy:\n",
    "$$negentropy(z) ≜ H[N(\\mu,\\sigma^2)]-H[z] $$"
   ]
  },
  {
   "cell_type": "markdown",
   "metadata": {},
   "source": [
    "    Minimizing mutual information:\n",
    "$$I(z)≜𝕂𝕃[𝑝(𝐳)||\\prod_j 𝑝(𝑧_𝑗 ) ]=\\sum_j H[z_j] -H[z]$$"
   ]
  },
  {
   "cell_type": "code",
   "execution_count": null,
   "metadata": {},
   "outputs": [],
   "source": []
  },
  {
   "cell_type": "code",
   "execution_count": null,
   "metadata": {},
   "outputs": [],
   "source": []
  }
 ],
 "metadata": {
  "kernelspec": {
   "display_name": "Python 3",
   "language": "python",
   "name": "python3"
  },
  "language_info": {
   "codemirror_mode": {
    "name": "ipython",
    "version": 3
   },
   "file_extension": ".py",
   "mimetype": "text/x-python",
   "name": "python",
   "nbconvert_exporter": "python",
   "pygments_lexer": "ipython3",
   "version": "3.6.8"
  }
 },
 "nbformat": 4,
 "nbformat_minor": 2
}
