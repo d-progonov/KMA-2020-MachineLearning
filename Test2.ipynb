{
 "cells": [
  {
   "cell_type": "code",
   "execution_count": null,
   "metadata": {},
   "outputs": [],
   "source": [
    "Метод опорних векторів (Support Vector Machine, SVM). Відмінності від інших методів класифікації даних."
   ]
  },
  {
   "cell_type": "code",
   "execution_count": null,
   "metadata": {},
   "outputs": [],
   "source": [
    "Класифікатор методу опорних векторів  включає три ключові компоненти:\n",
    "    \n",
    "    The kernel trick - необхідний для запобігання перенавчання, тобто для забезпечення того, \n",
    "    щоб вектор ознак був досить багатий, щоб лінійний класифікатор міг розділяти дані. \n",
    "    Якщо вихідні об'єкти вже мають великі розміри, досить використовувати лінійне ядро, \n",
    "    що еквівалентно роботі з вихідними об'єктами.\n",
    "    \n",
    "    The sparsity and large margin principles - необхідні для запобігання перенавчання, \n",
    "    тобто щоб ми не використали всі основні функції."
   ]
  }
 ],
 "metadata": {
  "kernelspec": {
   "display_name": "Python 3",
   "language": "python",
   "name": "python3"
  },
  "language_info": {
   "codemirror_mode": {
    "name": "ipython",
    "version": 3
   },
   "file_extension": ".py",
   "mimetype": "text/x-python",
   "name": "python",
   "nbconvert_exporter": "python",
   "pygments_lexer": "ipython3",
   "version": "3.7.3"
  }
 },
 "nbformat": 4,
 "nbformat_minor": 2
}
